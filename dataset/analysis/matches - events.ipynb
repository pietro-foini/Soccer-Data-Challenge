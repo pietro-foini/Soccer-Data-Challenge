{
 "cells": [
  {
   "cell_type": "code",
   "execution_count": 1,
   "metadata": {},
   "outputs": [],
   "source": [
    "import pandas as pd\n",
    "import pickle"
   ]
  },
  {
   "cell_type": "code",
   "execution_count": 2,
   "metadata": {},
   "outputs": [],
   "source": [
    "# Set a value for the column width layout.\n",
    "pd.options.display.max_colwidth = 20"
   ]
  },
  {
   "cell_type": "markdown",
   "metadata": {},
   "source": [
    "# Dataset\n",
    "\n",
    "Dataset link: https://figshare.com/collections/Soccer_match_event_dataset/4415000/2\n",
    "\n",
    "Dataset documentation: https://apidocs.wyscout.com/, https://support.wyscout.com/matches-wyid-events#10-available-tag-ids"
   ]
  },
  {
   "cell_type": "code",
   "execution_count": 3,
   "metadata": {},
   "outputs": [],
   "source": [
    "# Select a competition as example.\n",
    "COMPETITION = \"World_Cup\" # Italy, England, France, Germany, Spain, World_Cup, European_Championship"
   ]
  },
  {
   "cell_type": "code",
   "execution_count": 4,
   "metadata": {},
   "outputs": [],
   "source": [
    "# Define the path where the official released dataset is stored.\n",
    "path_to_dataset = \"../dataset/\""
   ]
  },
  {
   "cell_type": "markdown",
   "metadata": {},
   "source": [
    "## Matches dataset\n",
    "\n",
    "This dataset describes all the matches made available."
   ]
  },
  {
   "cell_type": "code",
   "execution_count": 5,
   "metadata": {},
   "outputs": [
    {
     "data": {
      "text/html": [
       "<div>\n",
       "<style scoped>\n",
       "    .dataframe tbody tr th:only-of-type {\n",
       "        vertical-align: middle;\n",
       "    }\n",
       "\n",
       "    .dataframe tbody tr th {\n",
       "        vertical-align: top;\n",
       "    }\n",
       "\n",
       "    .dataframe thead th {\n",
       "        text-align: right;\n",
       "    }\n",
       "</style>\n",
       "<table border=\"1\" class=\"dataframe\">\n",
       "  <thead>\n",
       "    <tr style=\"text-align: right;\">\n",
       "      <th></th>\n",
       "      <th>status</th>\n",
       "      <th>roundId</th>\n",
       "      <th>gameweek</th>\n",
       "      <th>teamsData</th>\n",
       "      <th>seasonId</th>\n",
       "      <th>dateutc</th>\n",
       "      <th>winner</th>\n",
       "      <th>venue</th>\n",
       "      <th>wyId</th>\n",
       "      <th>label</th>\n",
       "      <th>date</th>\n",
       "      <th>groupName</th>\n",
       "      <th>referees</th>\n",
       "      <th>duration</th>\n",
       "      <th>competitionId</th>\n",
       "    </tr>\n",
       "  </thead>\n",
       "  <tbody>\n",
       "    <tr>\n",
       "      <th>0</th>\n",
       "      <td>Played</td>\n",
       "      <td>4165368</td>\n",
       "      <td>0</td>\n",
       "      <td>{'9598': {'score...</td>\n",
       "      <td>10078</td>\n",
       "      <td>2018-07-15 15:00:00</td>\n",
       "      <td>4418</td>\n",
       "      <td>Olimpiyskiy stad...</td>\n",
       "      <td>2058017</td>\n",
       "      <td>France - Croatia...</td>\n",
       "      <td>2018-07-15 17:00:...</td>\n",
       "      <td></td>\n",
       "      <td>[{'refereeId': 3...</td>\n",
       "      <td>Regular</td>\n",
       "      <td>28</td>\n",
       "    </tr>\n",
       "    <tr>\n",
       "      <th>1</th>\n",
       "      <td>Played</td>\n",
       "      <td>4165367</td>\n",
       "      <td>0</td>\n",
       "      <td>{'2413': {'score...</td>\n",
       "      <td>10078</td>\n",
       "      <td>2018-07-14 14:00:00</td>\n",
       "      <td>5629</td>\n",
       "      <td>Stadion Krestovskyi</td>\n",
       "      <td>2058016</td>\n",
       "      <td>Belgium - Englan...</td>\n",
       "      <td>2018-07-14 16:00:...</td>\n",
       "      <td></td>\n",
       "      <td>[{'refereeId': 3...</td>\n",
       "      <td>Regular</td>\n",
       "      <td>28</td>\n",
       "    </tr>\n",
       "    <tr>\n",
       "      <th>2</th>\n",
       "      <td>Played</td>\n",
       "      <td>4165366</td>\n",
       "      <td>0</td>\n",
       "      <td>{'2413': {'score...</td>\n",
       "      <td>10078</td>\n",
       "      <td>2018-07-11 18:00:00</td>\n",
       "      <td>9598</td>\n",
       "      <td>Olimpiyskiy stad...</td>\n",
       "      <td>2058015</td>\n",
       "      <td>Croatia - Englan...</td>\n",
       "      <td>2018-07-11 20:00:...</td>\n",
       "      <td></td>\n",
       "      <td>[{'refereeId': 3...</td>\n",
       "      <td>ExtraTime</td>\n",
       "      <td>28</td>\n",
       "    </tr>\n",
       "    <tr>\n",
       "      <th>3</th>\n",
       "      <td>Played</td>\n",
       "      <td>4165366</td>\n",
       "      <td>0</td>\n",
       "      <td>{'5629': {'score...</td>\n",
       "      <td>10078</td>\n",
       "      <td>2018-07-10 18:00:00</td>\n",
       "      <td>4418</td>\n",
       "      <td>Stadion Krestovskyi</td>\n",
       "      <td>2058014</td>\n",
       "      <td>France - Belgium...</td>\n",
       "      <td>2018-07-10 20:00:...</td>\n",
       "      <td></td>\n",
       "      <td>[{'refereeId': 3...</td>\n",
       "      <td>Regular</td>\n",
       "      <td>28</td>\n",
       "    </tr>\n",
       "    <tr>\n",
       "      <th>4</th>\n",
       "      <td>Played</td>\n",
       "      <td>4165365</td>\n",
       "      <td>0</td>\n",
       "      <td>{'14358': {'scor...</td>\n",
       "      <td>10078</td>\n",
       "      <td>2018-07-07 18:00:00</td>\n",
       "      <td>9598</td>\n",
       "      <td>Olimpiyskiy Stad...</td>\n",
       "      <td>2058012</td>\n",
       "      <td>Russia - Croatia...</td>\n",
       "      <td>2018-07-07 20:00:...</td>\n",
       "      <td></td>\n",
       "      <td>[{'refereeId': 3...</td>\n",
       "      <td>Penalties</td>\n",
       "      <td>28</td>\n",
       "    </tr>\n",
       "  </tbody>\n",
       "</table>\n",
       "</div>"
      ],
      "text/plain": [
       "   status  roundId  gameweek            teamsData  seasonId  \\\n",
       "0  Played  4165368         0  {'9598': {'score...     10078   \n",
       "1  Played  4165367         0  {'2413': {'score...     10078   \n",
       "2  Played  4165366         0  {'2413': {'score...     10078   \n",
       "3  Played  4165366         0  {'5629': {'score...     10078   \n",
       "4  Played  4165365         0  {'14358': {'scor...     10078   \n",
       "\n",
       "               dateutc  winner                venue     wyId  \\\n",
       "0  2018-07-15 15:00:00    4418  Olimpiyskiy stad...  2058017   \n",
       "1  2018-07-14 14:00:00    5629  Stadion Krestovskyi  2058016   \n",
       "2  2018-07-11 18:00:00    9598  Olimpiyskiy stad...  2058015   \n",
       "3  2018-07-10 18:00:00    4418  Stadion Krestovskyi  2058014   \n",
       "4  2018-07-07 18:00:00    9598  Olimpiyskiy Stad...  2058012   \n",
       "\n",
       "                 label                 date groupName             referees  \\\n",
       "0  France - Croatia... 2018-07-15 17:00:...            [{'refereeId': 3...   \n",
       "1  Belgium - Englan... 2018-07-14 16:00:...            [{'refereeId': 3...   \n",
       "2  Croatia - Englan... 2018-07-11 20:00:...            [{'refereeId': 3...   \n",
       "3  France - Belgium... 2018-07-10 20:00:...            [{'refereeId': 3...   \n",
       "4  Russia - Croatia... 2018-07-07 20:00:...            [{'refereeId': 3...   \n",
       "\n",
       "    duration  competitionId  \n",
       "0    Regular             28  \n",
       "1    Regular             28  \n",
       "2  ExtraTime             28  \n",
       "3    Regular             28  \n",
       "4  Penalties             28  "
      ]
     },
     "execution_count": 5,
     "metadata": {},
     "output_type": "execute_result"
    }
   ],
   "source": [
    "# Load the matches dataset.\n",
    "matches = pd.read_json(path_to_dataset + f\"matches/matches_{COMPETITION}.json\", encoding = \"unicode_escape\")\n",
    "matches.head()"
   ]
  },
  {
   "cell_type": "code",
   "execution_count": 6,
   "metadata": {},
   "outputs": [
    {
     "data": {
      "text/plain": [
       "64"
      ]
     },
     "execution_count": 6,
     "metadata": {},
     "output_type": "execute_result"
    }
   ],
   "source": [
    "len(matches)"
   ]
  },
  {
   "cell_type": "markdown",
   "metadata": {},
   "source": [
    "### Key description\n",
    "\n",
    "- **status**: it can be \"Played\" (the match has officially finished), \"Cancelled\" (the match has been canceled for some reason), \"Postponed\" (the match has been postponed and no new date and time is available yet) or \"Suspended\" (the match has been suspended and no new date and time is available yet);\n",
    "- **roundId**: indicates the match-day of the competition to which the match belongs to. During a competition for soccer clubs, each of the participating clubs plays against each of the other clubs twice, once at home and once away. The matches are organized in match-days: all the matches in match-day i are played before the matches in match-day i + 1, even tough some matches can be anticipated or postponed to facilitate players and clubs participating in Continental or Intercontinental competitions. During a competition for national teams, the \"roundID\" indicates the stage of the competition (eliminatory round, round of 16, quarter finals, semifinals, final);\n",
    "- **gameweek**: the week of the league, starting from the beginning of the league;\n",
    "- **teamsData**: it contains several subfields describing information about each team that is playing that match: such as lineup, bench composition, list of substitutions, coach and scores;\n",
    "- **seasonId**: indicates the season of the match;\n",
    "- **date and dateutc**: the former specifies date and time when the match starts in explicit format (e.g., May 20, 2018 at 8:45:00 PM GMT+2), the latter contains the same information but in the compact format YYYY-MM-DD hh:mm:ss;\n",
    "- **winner**: the identifier of the team which won the game, or 0 if the match ended with a draw;\n",
    "- **venue**: the stadium where the match was held (e.g., \"Stadio Olimpico\");\n",
    "- **wyId**: the identifier of the match, assigned by Wyscout;\n",
    "- **label**: contains the name of the two clubs and the result of the match (e.g., \"Lazio - Internazionale, 2 - 3\");\n",
    "- **referees**: the referees information of the match;\n",
    "- **duration**: the duration of the match. It can be \"Regular\" (matches of regular duration of 90 minutes + stoppage time), \"ExtraTime\" (matches with supplementary times, as it may happen for matches in continental or international competitions), or \"Penalities\" (matches which end at penalty kicks, as it may happen for continental or international competitions);\n",
    "- **competitionId**: the identifier of the competition to which the match belongs to. It is a integer and refers to the field \"wyId\" of the competition document."
   ]
  },
  {
   "cell_type": "code",
   "execution_count": 7,
   "metadata": {},
   "outputs": [
    {
     "data": {
      "text/plain": [
       "True"
      ]
     },
     "execution_count": 7,
     "metadata": {},
     "output_type": "execute_result"
    }
   ],
   "source": [
    "# Check index identifier of the dataframe.\n",
    "matches.set_index([\"wyId\"]).index.is_unique"
   ]
  },
  {
   "cell_type": "code",
   "execution_count": 8,
   "metadata": {},
   "outputs": [
    {
     "data": {
      "text/plain": [
       "status           0\n",
       "roundId          0\n",
       "gameweek         0\n",
       "teamsData        0\n",
       "seasonId         0\n",
       "dateutc          0\n",
       "winner           0\n",
       "venue            0\n",
       "wyId             0\n",
       "label            0\n",
       "date             0\n",
       "groupName        0\n",
       "referees         0\n",
       "duration         0\n",
       "competitionId    0\n",
       "dtype: int64"
      ]
     },
     "execution_count": 8,
     "metadata": {},
     "output_type": "execute_result"
    }
   ],
   "source": [
    "# Check if dataframe contains some nan values.\n",
    "matches.isna().sum()"
   ]
  },
  {
   "cell_type": "markdown",
   "metadata": {},
   "source": [
    "## Events dataset\n",
    "\n",
    "This dataset describes all the events that occur during each match. Each event refers to a ball touch."
   ]
  },
  {
   "cell_type": "code",
   "execution_count": 9,
   "metadata": {},
   "outputs": [
    {
     "data": {
      "text/html": [
       "<div>\n",
       "<style scoped>\n",
       "    .dataframe tbody tr th:only-of-type {\n",
       "        vertical-align: middle;\n",
       "    }\n",
       "\n",
       "    .dataframe tbody tr th {\n",
       "        vertical-align: top;\n",
       "    }\n",
       "\n",
       "    .dataframe thead th {\n",
       "        text-align: right;\n",
       "    }\n",
       "</style>\n",
       "<table border=\"1\" class=\"dataframe\">\n",
       "  <thead>\n",
       "    <tr style=\"text-align: right;\">\n",
       "      <th></th>\n",
       "      <th>eventId</th>\n",
       "      <th>subEventName</th>\n",
       "      <th>tags</th>\n",
       "      <th>playerId</th>\n",
       "      <th>positions</th>\n",
       "      <th>matchId</th>\n",
       "      <th>eventName</th>\n",
       "      <th>teamId</th>\n",
       "      <th>matchPeriod</th>\n",
       "      <th>eventSec</th>\n",
       "      <th>subEventId</th>\n",
       "      <th>id</th>\n",
       "    </tr>\n",
       "  </thead>\n",
       "  <tbody>\n",
       "    <tr>\n",
       "      <th>0</th>\n",
       "      <td>8</td>\n",
       "      <td>Simple pass</td>\n",
       "      <td>[{'id': 1801}]</td>\n",
       "      <td>122671</td>\n",
       "      <td>[{'y': 50, 'x': ...</td>\n",
       "      <td>2057954</td>\n",
       "      <td>Pass</td>\n",
       "      <td>16521</td>\n",
       "      <td>1H</td>\n",
       "      <td>1.656214</td>\n",
       "      <td>85</td>\n",
       "      <td>258612104</td>\n",
       "    </tr>\n",
       "    <tr>\n",
       "      <th>1</th>\n",
       "      <td>8</td>\n",
       "      <td>High pass</td>\n",
       "      <td>[{'id': 1801}]</td>\n",
       "      <td>139393</td>\n",
       "      <td>[{'y': 53, 'x': ...</td>\n",
       "      <td>2057954</td>\n",
       "      <td>Pass</td>\n",
       "      <td>16521</td>\n",
       "      <td>1H</td>\n",
       "      <td>4.487814</td>\n",
       "      <td>83</td>\n",
       "      <td>258612106</td>\n",
       "    </tr>\n",
       "    <tr>\n",
       "      <th>2</th>\n",
       "      <td>1</td>\n",
       "      <td>Air duel</td>\n",
       "      <td>[{'id': 703}, {'...</td>\n",
       "      <td>103668</td>\n",
       "      <td>[{'y': 81, 'x': ...</td>\n",
       "      <td>2057954</td>\n",
       "      <td>Duel</td>\n",
       "      <td>14358</td>\n",
       "      <td>1H</td>\n",
       "      <td>5.937411</td>\n",
       "      <td>10</td>\n",
       "      <td>258612077</td>\n",
       "    </tr>\n",
       "    <tr>\n",
       "      <th>3</th>\n",
       "      <td>1</td>\n",
       "      <td>Air duel</td>\n",
       "      <td>[{'id': 701}, {'...</td>\n",
       "      <td>122940</td>\n",
       "      <td>[{'y': 19, 'x': ...</td>\n",
       "      <td>2057954</td>\n",
       "      <td>Duel</td>\n",
       "      <td>16521</td>\n",
       "      <td>1H</td>\n",
       "      <td>6.406961</td>\n",
       "      <td>10</td>\n",
       "      <td>258612112</td>\n",
       "    </tr>\n",
       "    <tr>\n",
       "      <th>4</th>\n",
       "      <td>8</td>\n",
       "      <td>Simple pass</td>\n",
       "      <td>[{'id': 1801}]</td>\n",
       "      <td>122847</td>\n",
       "      <td>[{'y': 17, 'x': ...</td>\n",
       "      <td>2057954</td>\n",
       "      <td>Pass</td>\n",
       "      <td>16521</td>\n",
       "      <td>1H</td>\n",
       "      <td>8.562167</td>\n",
       "      <td>85</td>\n",
       "      <td>258612110</td>\n",
       "    </tr>\n",
       "  </tbody>\n",
       "</table>\n",
       "</div>"
      ],
      "text/plain": [
       "   eventId subEventName                 tags  playerId            positions  \\\n",
       "0        8  Simple pass       [{'id': 1801}]    122671  [{'y': 50, 'x': ...   \n",
       "1        8    High pass       [{'id': 1801}]    139393  [{'y': 53, 'x': ...   \n",
       "2        1     Air duel  [{'id': 703}, {'...    103668  [{'y': 81, 'x': ...   \n",
       "3        1     Air duel  [{'id': 701}, {'...    122940  [{'y': 19, 'x': ...   \n",
       "4        8  Simple pass       [{'id': 1801}]    122847  [{'y': 17, 'x': ...   \n",
       "\n",
       "   matchId eventName  teamId matchPeriod  eventSec subEventId         id  \n",
       "0  2057954      Pass   16521          1H  1.656214         85  258612104  \n",
       "1  2057954      Pass   16521          1H  4.487814         83  258612106  \n",
       "2  2057954      Duel   14358          1H  5.937411         10  258612077  \n",
       "3  2057954      Duel   16521          1H  6.406961         10  258612112  \n",
       "4  2057954      Pass   16521          1H  8.562167         85  258612110  "
      ]
     },
     "execution_count": 9,
     "metadata": {},
     "output_type": "execute_result"
    }
   ],
   "source": [
    "# Load the events dataset.\n",
    "events = pd.read_json(path_to_dataset + f\"events/events_{COMPETITION}.json\", encoding = \"unicode_escape\")\n",
    "events.head()"
   ]
  },
  {
   "cell_type": "code",
   "execution_count": 10,
   "metadata": {},
   "outputs": [
    {
     "data": {
      "text/plain": [
       "101759"
      ]
     },
     "execution_count": 10,
     "metadata": {},
     "output_type": "execute_result"
    }
   ],
   "source": [
    "len(events)"
   ]
  },
  {
   "cell_type": "markdown",
   "metadata": {},
   "source": [
    "### Key description\n",
    "\n",
    "- **eventId**: the identifier of the event's type. Each eventId is associated with an event name;\n",
    "- **eventName**: the name of the event's type. There are seven types of events: pass, foul, shot, duel, free kick, offside and touch;\n",
    "- **subEventId**: the identifier of the subevent's type. Each subEventId is associated with a subevent name;\n",
    "- **subEventName**: the name of the subevent's type. Each event type is associated with a different set of subevent types;\n",
    "\n",
    "<img src=\"../dataset/images/events_events.png\" width=\"300\">\n",
    "\n",
    "- **tags**: a list of event tags, each one describes additional information about the event (e.g., accurate). Each event type is associated with a different set of tags. Example `[{'id': 503}, {'id': 703}, {'id': 1801}]`; For example 1801 is 'accurate' and 1802 is 'not accurate'. \n",
    "\n",
    "<img src=\"../dataset/images/events_tags.png\" width=\"200\">\n",
    "\n",
    "- **playerId**: the identifier of the player who generated the event. The identifier refers to the field \"wyId\" in a player dataset;\n",
    "- **positions**: the origin and destination positions associated with the event. Each position is a pair of coordinates (x, y). The x and y coordinates are always in the range [0, 100] and indicate the percentage of the field from the perspective of the attacking team. In particular, the value of the x coordinate indicates the event's nearness (in percentage) to the opponent's goal, while the value of the y coordinates indicates the event's nearness (in percentage) to the right side of the field. The event's coordinates depends on the subject. The subject's goal to be defended is always x=0% and the attack is always x=100%. All values are % expressed as (x,y).\n",
    "\n",
    "<img src=\"../dataset/images/pitch_coordinates.png\" width=\"400\">\n",
    "\n",
    "- **matchId**: the identifier of the match the event refers to. The identifier refers to the field \"wyId\" in the match dataset;\n",
    "\n",
    "- **teamId**: the identifier of the player's team. The identifier refers to the field \"wyId\" in the team dataset.\n",
    "- **matchPeriod**: the period of the match. It can be \"1H\" (first half of the match), \"2H\" (second half of the match), \"E1\" (first extra time), \"E2\" (second extra time) or \"P\" (penalties time);\n",
    "- **eventSec**: the time when the event occurs (in seconds since the beginning of the current half of the match);\n",
    "- **id**: a unique identifier of the event;"
   ]
  },
  {
   "cell_type": "code",
   "execution_count": 11,
   "metadata": {},
   "outputs": [
    {
     "data": {
      "text/plain": [
       "True"
      ]
     },
     "execution_count": 11,
     "metadata": {},
     "output_type": "execute_result"
    }
   ],
   "source": [
    "# Check index identifier of the dataframe.\n",
    "events.set_index([\"id\"]).index.is_unique"
   ]
  },
  {
   "cell_type": "code",
   "execution_count": 12,
   "metadata": {},
   "outputs": [
    {
     "data": {
      "text/plain": [
       "eventId         0\n",
       "subEventName    0\n",
       "tags            0\n",
       "playerId        0\n",
       "positions       0\n",
       "matchId         0\n",
       "eventName       0\n",
       "teamId          0\n",
       "matchPeriod     0\n",
       "eventSec        0\n",
       "subEventId      0\n",
       "id              0\n",
       "dtype: int64"
      ]
     },
     "execution_count": 12,
     "metadata": {},
     "output_type": "execute_result"
    }
   ],
   "source": [
    "# Check if dataframe contains some nan values.\n",
    "events.isna().sum()"
   ]
  }
 ],
 "metadata": {
  "kernelspec": {
   "display_name": "Python 3",
   "language": "python",
   "name": "python3"
  },
  "language_info": {
   "codemirror_mode": {
    "name": "ipython",
    "version": 3
   },
   "file_extension": ".py",
   "mimetype": "text/x-python",
   "name": "python",
   "nbconvert_exporter": "python",
   "pygments_lexer": "ipython3",
   "version": "3.6.13"
  }
 },
 "nbformat": 4,
 "nbformat_minor": 2
}
